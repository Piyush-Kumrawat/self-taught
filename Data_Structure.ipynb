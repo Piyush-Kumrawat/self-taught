{
 "cells": [
  {
   "cell_type": "code",
   "execution_count": 1,
   "id": "f43cf96c-8e92-47de-bd8f-e517e33728d1",
   "metadata": {},
   "outputs": [
    {
     "name": "stdout",
     "output_type": "stream",
     "text": [
      "Hello World\n"
     ]
    }
   ],
   "source": [
    "print(\"Hello World\")"
   ]
  },
  {
   "cell_type": "code",
   "execution_count": 1,
   "id": "7441355a-29e5-4afa-8f68-9b3bf34dadd2",
   "metadata": {},
   "outputs": [
    {
     "name": "stdout",
     "output_type": "stream",
     "text": [
      "-3\n"
     ]
    }
   ],
   "source": [
    "L = [12, -3, 4.5, 6, -0.59, 321, 0.05]\n",
    "m = 0\n",
    "for i in L:\n",
    "    if i < m:\n",
    "        m = i\n",
    "print(m)"
   ]
  },
  {
   "cell_type": "code",
   "execution_count": 2,
   "id": "9d16b68d",
   "metadata": {},
   "outputs": [
    {
     "name": "stdout",
     "output_type": "stream",
     "text": [
      "-3 1\n"
     ]
    }
   ],
   "source": [
    "L = [12, -3, 4.5, 6, -0.59, 321, 0.05]\n",
    "m = 0\n",
    "idx = 0\n",
    "c = 0\n",
    "for i in L:\n",
    "    if i < m:\n",
    "        m = i\n",
    "        idx = c\n",
    "    c += 1\n",
    "    \n",
    "print(m, idx)"
   ]
  },
  {
   "cell_type": "code",
   "execution_count": 3,
   "id": "8bef32c3",
   "metadata": {},
   "outputs": [
    {
     "name": "stdout",
     "output_type": "stream",
     "text": [
      "-3 1 [-3, 12, 4.5, 6, -0.59, 321, 0.05]\n"
     ]
    }
   ],
   "source": [
    "L = [12, -3, 4.5, 6, -0.59, 321, 0.05]\n",
    "m = 0\n",
    "idx = 0\n",
    "c = 0\n",
    "for i in L:\n",
    "    if i < m:\n",
    "        m = i\n",
    "        idx = c\n",
    "    c += 1\n",
    "temp = L[0]\n",
    "L[0] = L[idx]\n",
    "L[idx] = temp\n",
    "print(m, idx, L)"
   ]
  },
  {
   "cell_type": "code",
   "execution_count": 5,
   "id": "f69d1b22",
   "metadata": {},
   "outputs": [
    {
     "name": "stdout",
     "output_type": "stream",
     "text": [
      "[-3, -0.59, 0.05, 4.5, 6, 12, 321]\n"
     ]
    }
   ],
   "source": [
    "L = [12, -3, 4.5, 6, -0.59, 321, 0.05]\n",
    "for j in range(len(L)):\n",
    "    m = L[j]\n",
    "    idx = j\n",
    "    c = j\n",
    "    for i in range(j, len(L)):\n",
    "        if L[i] < m:\n",
    "            m = L[i]\n",
    "            idx = c\n",
    "        c += 1\n",
    "    temp = L[j]\n",
    "    L[j] = L[idx]\n",
    "    L[idx] = temp\n",
    "print(L)"
   ]
  },
  {
   "cell_type": "code",
   "execution_count": null,
   "id": "f91b7134",
   "metadata": {},
   "outputs": [],
   "source": [
    "'''You are a teacher and you have different records containing ID of a student and the marks list in each\n",
    "subject where different students have taken different numbers of subjects. All these records are in hard copy.\n",
    "You want to enter all the data in computer and want to compute the average marks of each student and display.'''\n",
    "\n",
    "def getDataFromUser():\n",
    "    D = {}\n",
    "    while True:\n",
    "        studentID = input(\"Enter student ID: \")\n",
    "        marksList = input(\"Enter the marks by comma separated values: \")\n",
    "        morestudents = input(\"Enter 'no' to quit insertion.\")\n",
    "        if studentID in D:\n",
    "            print(studentID,\"is already inserted.\")\n",
    "        else:\n",
    "            D[studentID] = marksList.split(\",\")\n",
    "        if morestudents.lower() == \"no\":\n",
    "            return D\n",
    "studentdata = getDataFromUser()\n",
    "def getAvgMarks(E):\n",
    "    avgMarks = {}\n",
    "    for x in E:\n",
    "        L = E[x]\n",
    "        s = 0\n",
    "        for marks in L:\n",
    "            s += int(marks)\n",
    "            avgMarks[x] = s/len(L)\n",
    "    return avgMarks\n",
    "J = getAvgMarks(studentData)\n",
    "for x in J:\n",
    "    print(\"Student:\",x,\"got avg marks as:\",J[x])"
   ]
  },
  {
   "cell_type": "code",
   "execution_count": null,
   "id": "7ee30c0e",
   "metadata": {},
   "outputs": [],
   "source": [
    "def get_data_from_user():\n",
    "    student_data = {}\n",
    "    while True:\n",
    "        student_id = input(\"Enter student ID: \")\n",
    "        marks_list = input(\"Enter the marks by comma-separated values: \")\n",
    "        more_students = input(\"Enter 'no' to quit insertion.\")\n",
    "        \n",
    "        if student_id in student_data:\n",
    "            print(student_id, \"is already inserted.\")\n",
    "        else:\n",
    "            student_data[student_id] = list(map(int, marks_list.split(\",\")))\n",
    "        \n",
    "        if more_students.lower() == \"no\":\n",
    "            return student_data\n",
    "\n",
    "def calculate_avg_marks(data):\n",
    "    avg_marks = {}\n",
    "    for student_id, marks_list in data.items():\n",
    "        avg_marks[student_id] = sum(marks_list) / len(marks_list)\n",
    "    return avg_marks\n",
    "\n",
    "def display_avg_marks(average_marks):\n",
    "    for student_id, avg_mark in average_marks.items():\n",
    "        print(f\"Student: {student_id} got average marks: {avg_mark:.2f}\")\n",
    "\n",
    "if __name__ == \"__main__\":\n",
    "    student_data = get_data_from_user()\n",
    "    average_marks = calculate_avg_marks(student_data)\n",
    "    display_avg_marks(average_marks)"
   ]
  },
  {
   "cell_type": "code",
   "execution_count": null,
   "id": "e01a4e90",
   "metadata": {},
   "outputs": [],
   "source": []
  }
 ],
 "metadata": {
  "kernelspec": {
   "display_name": "Python 3 (ipykernel)",
   "language": "python",
   "name": "python3"
  },
  "language_info": {
   "codemirror_mode": {
    "name": "ipython",
    "version": 3
   },
   "file_extension": ".py",
   "mimetype": "text/x-python",
   "name": "python",
   "nbconvert_exporter": "python",
   "pygments_lexer": "ipython3",
   "version": "3.11.6"
  }
 },
 "nbformat": 4,
 "nbformat_minor": 5
}
